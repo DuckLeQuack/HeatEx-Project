{
 "cells": [
  {
   "cell_type": "code",
   "execution_count": 1,
   "id": "f6973ab2",
   "metadata": {},
   "outputs": [],
   "source": [
    "import matplotlib.pyplot as plt\n",
    "import pandas as pd\n",
    "import numpy as np\n",
    "import math\n",
    "import seaborn as sns\n",
    "import statistics as st\n",
    "import sklearn as skl\n",
    "from sklearn.model_selection import train_test_split"
   ]
  },
  {
   "cell_type": "code",
   "execution_count": null,
   "id": "17769fa6",
   "metadata": {},
   "outputs": [],
   "source": [
    "fil = pd.read_csv(r\"asdasda.csv\")\n",
    "df = pd.DataFrame(fil)\n",
    "\n",
    "pd.options.display.max_rows = 7000\n",
    "pd.options.display.max_columns = 100\n",
    "\n",
    "\n",
    "# dfNew = df.drop(\"Id\",axis=1)\n",
    "#dfNew = df.drop(\"pH\",axis=1)\n",
    "#dfNew = dfNew.drop(\"free sulfur dioxide\",axis=1)\n",
    "#dfNew = dfNew.drop(\"residual sugar\",axis=1)\n",
    "#dfNew = dfNew.drop(\"type\",axis=1)\n",
    "\n",
    "#dfNew"
   ]
  },
  {
   "cell_type": "code",
   "execution_count": 2,
   "id": "ef2f5d5c",
   "metadata": {},
   "outputs": [],
   "source": [
    "# dfNew.dropna(inplace = True)"
   ]
  },
  {
   "cell_type": "code",
   "execution_count": 3,
   "id": "f99c2289",
   "metadata": {},
   "outputs": [],
   "source": [
    "# dfNew.reindex()"
   ]
  },
  {
   "cell_type": "code",
   "execution_count": null,
   "id": "e58c4980",
   "metadata": {},
   "outputs": [],
   "source": [
    "# y = dfNew[\"citric acid\"]\n",
    "# x = dfNew[\"alcohol\"]\n",
    "\n",
    "# plt.scatter(x,y)\n",
    "# plt.ylabel(\"citric acid\")\n",
    "# plt.xlabel(\"alcohol\")\n",
    "# plt.grid()\n",
    "# plt.show()"
   ]
  },
  {
   "cell_type": "code",
   "execution_count": null,
   "id": "d44e676b",
   "metadata": {},
   "outputs": [],
   "source": [
    "# corr = dfNew.corr() # Regner ut korrelasjonskoeffisientene\n",
    "\n",
    "# plt.figure(figsize=(7,5))\n",
    "# sns.heatmap(corr, annot=True) # Lager visualisering. Parameteren annot = True gir tallene i boksene.\n",
    "# plt.show()"
   ]
  },
  {
   "cell_type": "code",
   "execution_count": null,
   "id": "bcc05aec",
   "metadata": {},
   "outputs": [],
   "source": [
    "# x_train, x_test, y_train, y_test = train_test_split(dfNew.drop(\"quality\", axis=1), dfNew[\"quality\"],  test_size=0.1, random_state=42, shuffle=True, stratify=dfNew[\"quality\"])\n",
    "\n",
    "# len(x_train)"
   ]
  },
  {
   "cell_type": "code",
   "execution_count": null,
   "id": "814510c2",
   "metadata": {},
   "outputs": [],
   "source": [
    "# from sklearn import linear_model\n",
    "\n",
    "# logr = linear_model.LogisticRegression(max_iter = 15000)\n",
    "# logr.fit(x_train,y_train)\n",
    "\n",
    "# #For my own sanity\n",
    "# if \"quality\" in x_test:\n",
    "#     x_test = x_test.drop(\"quality\",axis=1)\n",
    "# else:\n",
    "#     print(\"Done already \\n\")\n",
    "\n",
    "# # predList = []\n",
    "\n",
    "# # for i in range(len(x_test)):\n",
    "# #     predA = logr.predict([x_testA.iloc[i]])\n",
    "# #     predList.append(predA)\n",
    "\n",
    "# pred = logr.predict(x_test)\n",
    "\n",
    "\n",
    "# # for i in range(len(predList)):\n",
    "# #     predList[i] = int(predList[i])\n",
    "\n",
    "# # print(predList)\n",
    "# # print(\" \")\n",
    "# # print(len(predList))\n",
    "# # print(\" \")\n",
    "\n",
    "# # avg = np.mean(predList)\n",
    "# # print(avg)\n",
    "\n",
    "# print(pred)"
   ]
  },
  {
   "cell_type": "code",
   "execution_count": null,
   "id": "0052d658",
   "metadata": {},
   "outputs": [],
   "source": [
    "# import statistics as stats\n",
    "\n",
    "# avg = np.mean(dfNew['quality'])\n",
    "# median = np.median(dfNew['quality'])\n",
    "# typtall = stats.mode(dfNew['quality'])\n",
    "\n",
    "# print(\"avg:\",  avg)\n",
    "# print(\"median:\", median)\n",
    "# print(\"typtall:\", typtall)\n",
    "\n",
    "# totalQ = []\n",
    "\n",
    "# for q in dfNew[\"quality\"]:\n",
    "#     if q == 5:\n",
    "#         totalQ.append(q)\n",
    "\n",
    "# print(len(totalQ))"
   ]
  },
  {
   "cell_type": "code",
   "execution_count": null,
   "id": "83c88522",
   "metadata": {},
   "outputs": [],
   "source": [
    "# import numpy as np\n",
    "# import matplotlib.pyplot as plt\n",
    "# import pandas as pd\n",
    "# from sklearn.neighbors import KNeighborsClassifier\n",
    "# from sklearn.preprocessing import StandardScaler\n",
    "# from sklearn.pipeline import Pipeline\n",
    "# from sklearn.model_selection import GridSearchCV\n",
    "\n",
    "# x_train, x_test, y_train, y_test = train_test_split(dfNew.drop(\"quality\", axis=1), dfNew[\"quality\"],  test_size=0.1, random_state=42, shuffle=True, stratify=dfNew[\"quality\"])\n",
    "\n",
    "# print(\"len x_test:\",len(x_test))\n",
    "\n",
    "# #For my own sanity\n",
    "# if \"quality\" in x_test:\n",
    "#     x_test = x_test.drop(\"quality\",axis=1)\n",
    "# else:\n",
    "#     print(\"Done already \\n\")\n",
    "\n",
    "# fil = pd.read_csv(\"WineQT.csv\")\n",
    "# df = pd.DataFrame(fil)\n",
    "# pd.options.display.max_rows = 7000\n",
    "# pd.options.display.max_columns = 100\n",
    "\n",
    "# # X=df[[\"fixed acidity\", \"volatile acidity\", \"citric acid\", \"chlorides\", \"total sulfur dioxide\",\"density\",\"sulphates\", 'alcohol']].values\n",
    "# # y=df[\"quality\"].values\n",
    "\n",
    "\n",
    "# pipe= Pipeline([\n",
    "#     (\"scale\", StandardScaler()),\n",
    "#     (\"model\", KNeighborsClassifier(n_neighbors=5))\n",
    "#     ])\n",
    "# # print(pipe.get_params())\n",
    "# mod = GridSearchCV(estimator=pipe, param_grid={'model__n_neighbors': [1,3,5,7]},cv=3,n_jobs=-1)\n",
    "\n",
    "# mod.fit(x_train,y_train)\n",
    "\n",
    "\n",
    "# pred=mod.predict(x_test)\n",
    "# print(pred)\n",
    "\n"
   ]
  },
  {
   "cell_type": "code",
   "execution_count": null,
   "id": "82e566be",
   "metadata": {},
   "outputs": [],
   "source": [
    "# #Confusion matrix\n",
    "\n",
    "# import matplotlib.pyplot as plt\n",
    "# from sklearn import metrics\n",
    "\n",
    "\n",
    "# actual = y_test\n",
    "# predicted = pred\n",
    "\n",
    "# confusion_matrix = metrics.confusion_matrix(actual, predicted)\n",
    "\n",
    "# cm_display = metrics.ConfusionMatrixDisplay(confusion_matrix = confusion_matrix,display_labels=[\"3\",\"4\",\"5\",\"6\",\"7\",\"8\",\"9\"])\n",
    "\n",
    "# cm_display.plot()\n",
    "# plt.show()"
   ]
  },
  {
   "cell_type": "code",
   "execution_count": null,
   "id": "5f7f9cca",
   "metadata": {},
   "outputs": [],
   "source": [
    "# print(\"modellen er\",(0+4+152+189+62+9+0)/len(y_test)*100,\"% riktig\")"
   ]
  },
  {
   "cell_type": "code",
   "execution_count": null,
   "id": "c94156b9",
   "metadata": {},
   "outputs": [],
   "source": [
    "# from sklearn.metrics import f1_score\n",
    "# #Accuracy test\n",
    "\n",
    "# f1a = f1_score(actual, pred, average='macro')\n",
    "# f1b = f1_score(actual, pred, average='micro')\n",
    "# f1c = f1_score(actual, pred, average='weighted')\n",
    "\n",
    "# print(\"accuracy for macro:\",f1a)\n",
    "# print(\"accuracy for micro:\",f1b)\n",
    "# print(\"accuracy for weighted:\",f1c)"
   ]
  },
  {
   "cell_type": "code",
   "execution_count": 5,
   "id": "0e3eb4b2",
   "metadata": {},
   "outputs": [],
   "source": [
    "# #Kan tenke på å bruke AUC - ROC (til å sjekke hvor sikker modellen er på at den har rett)\n",
    "# print(min(y_test),max(y_test))\n",
    "# print(min(pred),max(pred))"
   ]
  },
  {
   "cell_type": "code",
   "execution_count": null,
   "id": "ba89bb97",
   "metadata": {},
   "outputs": [],
   "source": [
    "# plt.subplot(1, 2,1)\n",
    "# plt.grid()\n",
    "# print(plt.hist(pred, bins=[3, 4, 5, 6, 7, 8, 9, 10], edgecolor=\"Black\"))\n",
    "# plt.title(\"Pred\")\n",
    "# plt.subplot(1, 2,2)\n",
    "# plt.title(\"Actual\")\n",
    "# plt.grid()\n",
    "# print(plt.hist(y_test, bins=[3, 4, 5, 6, 7, 8, 9, 10], edgecolor=\"Black\"))"
   ]
  },
  {
   "cell_type": "code",
   "execution_count": null,
   "id": "df5d478f",
   "metadata": {},
   "outputs": [],
   "source": [
    "# import plotly.express as px\n",
    "# # This dataframe has 244 lines, but 4 distinct values for `day`\n",
    "\n",
    "# fig = px.pie(dfNew, names='quality',title=\"Actual quality values\")\n",
    "# # fig.update_traces(textinfo='value') #For å gjøre til values istedet for percentage\n",
    "# fig.show()\n",
    "\n",
    "\n",
    "# #Skrive i rapporten om refleksjoner om values vs percentages"
   ]
  },
  {
   "cell_type": "code",
   "execution_count": null,
   "id": "f393a40d",
   "metadata": {},
   "outputs": [],
   "source": []
  },
  {
   "cell_type": "code",
   "execution_count": null,
   "id": "2ed76335",
   "metadata": {},
   "outputs": [],
   "source": []
  },
  {
   "cell_type": "code",
   "execution_count": null,
   "id": "d55cd1bd",
   "metadata": {},
   "outputs": [],
   "source": []
  }
 ],
 "metadata": {
  "kernelspec": {
   "display_name": "Python 3 (ipykernel)",
   "language": "python",
   "name": "python3"
  },
  "language_info": {
   "codemirror_mode": {
    "name": "ipython",
    "version": 3
   },
   "file_extension": ".py",
   "mimetype": "text/x-python",
   "name": "python",
   "nbconvert_exporter": "python",
   "pygments_lexer": "ipython3",
   "version": "3.11.4"
  }
 },
 "nbformat": 4,
 "nbformat_minor": 5
}
